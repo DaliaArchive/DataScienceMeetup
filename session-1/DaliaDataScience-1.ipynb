{
 "cells": [
  {
   "cell_type": "markdown",
   "metadata": {},
   "source": [
    "# Data Science @ Dalia  // Session 1"
   ]
  },
  {
   "cell_type": "markdown",
   "metadata": {},
   "source": [
    "This notebook is to be used as a guideline on the basic steps that we normally follow during an analysis"
   ]
  },
  {
   "cell_type": "markdown",
   "metadata": {},
   "source": [
    "### Import the required libraries\n"
   ]
  },
  {
   "cell_type": "code",
   "execution_count": null,
   "metadata": {},
   "outputs": [],
   "source": [
    "import numpy as np  # main calculations - linear algebra\n",
    "import pandas as pd # data processing\n",
    "import matplotlib.pyplot as plt # visualisation\n",
    "import seaborn as sns  # visualisation \n",
    "\n",
    "\n",
    "# we want to see our plots inline\n",
    "\n",
    "%matplotlib inline  "
   ]
  },
  {
   "cell_type": "markdown",
   "metadata": {},
   "source": [
    "### Read a file"
   ]
  },
  {
   "cell_type": "code",
   "execution_count": null,
   "metadata": {},
   "outputs": [],
   "source": [
    "football_results = pd.read_csv('results.csv')\n",
    "football_results.head(10)\n",
    "\n",
    "\n"
   ]
  },
  {
   "cell_type": "code",
   "execution_count": null,
   "metadata": {},
   "outputs": [],
   "source": [
    "\n",
    "heroes_information = pd.read_csv('heroes_information.csv')\n",
    "heroes_information.head(10)\n"
   ]
  },
  {
   "cell_type": "markdown",
   "metadata": {},
   "source": [
    "### Clean / Transform Data"
   ]
  },
  {
   "cell_type": "code",
   "execution_count": null,
   "metadata": {},
   "outputs": [],
   "source": [
    "heroes_information = pd.read_csv('heroes_information.csv')\n",
    "\n",
    "print(heroes_information.shape) # Let’s look at the size\n",
    "\n",
    "heroes_information[heroes_information.isnull().any(axis=1)] \n",
    "# Heroes with None data\n",
    "\n",
    "\n"
   ]
  },
  {
   "cell_type": "code",
   "execution_count": null,
   "metadata": {},
   "outputs": [],
   "source": [
    "clean_data = heroes_information.dropna()\n",
    "print(clean_data.shape) # Size of the clean data\n",
    "\n"
   ]
  },
  {
   "cell_type": "code",
   "execution_count": null,
   "metadata": {},
   "outputs": [],
   "source": [
    "\n",
    "# We assume that real superheroes have weight and height\n",
    "\n",
    "real_heroes = heroes_information[(heroes_information['Weight']> 0)  & (heroes_information['Height']> 0)]\n",
    "real_heroes.shape\n",
    "\n"
   ]
  },
  {
   "cell_type": "code",
   "execution_count": null,
   "metadata": {},
   "outputs": [],
   "source": [
    "football_results['difference'] = abs(football_results['home_score']- football_results['away_score'])\n",
    "\n",
    "football_results.loc[football_results['difference'].idxmax()]"
   ]
  },
  {
   "cell_type": "code",
   "execution_count": null,
   "metadata": {},
   "outputs": [],
   "source": [
    "df = football_results\n",
    "\n",
    "df[(df['home_team']==\"Macedonia\")| (df['away_team']==\"Macedonia\") ]\n",
    "\n",
    "df['home_team'] = df['home_team'].replace({'Macedonia': 'Northern Macedonia'})\n",
    "df['away_team'] = df['away_team'].replace({'Macedonia': 'Northern Macedonia'})\n",
    "\n",
    "df[df['home_team'].str.contains(\"Macedonia\") | df['away_team'].str.contains(\"Macedonia\")  ]\n",
    "\n",
    "\n"
   ]
  },
  {
   "cell_type": "code",
   "execution_count": null,
   "metadata": {},
   "outputs": [],
   "source": [
    "heroes_information = heroes_information.dropna()\n",
    "\n",
    "heroes_information = heroes_information[(heroes_information['Weight']> 0)  & (heroes_information['Height']> 0)]\n",
    "\n",
    "print(heroes_information.shape)\n",
    "\n"
   ]
  },
  {
   "cell_type": "code",
   "execution_count": null,
   "metadata": {},
   "outputs": [],
   "source": [
    "heroes_information.groupby('Gender')['name'].count()\n",
    "\n"
   ]
  },
  {
   "cell_type": "code",
   "execution_count": null,
   "metadata": {},
   "outputs": [],
   "source": [
    "weights_by_race = heroes_information.groupby('Race')['Weight'].mean()\n",
    "weights_by_race.sort_values()\n"
   ]
  },
  {
   "cell_type": "code",
   "execution_count": null,
   "metadata": {},
   "outputs": [],
   "source": [
    "heroes_information.groupby('Gender')['name'].count()\n",
    "\n"
   ]
  },
  {
   "cell_type": "code",
   "execution_count": null,
   "metadata": {},
   "outputs": [],
   "source": [
    "df = football_results.copy()\n",
    "\n",
    "df['difference'] = abs(df['home_score']- df['away_score'])\n",
    "df['date'] = pd.to_datetime(df['date']).map(lambda x: x.year)\n",
    "result = df.groupby('date')['difference'].mean()\n",
    "\n",
    "result.plot.line()\n"
   ]
  },
  {
   "cell_type": "code",
   "execution_count": null,
   "metadata": {},
   "outputs": [],
   "source": [
    "heroes_information[['Weight','Height']].plot.scatter(x='Weight', y='Height')\n",
    "\n",
    "\n"
   ]
  },
  {
   "cell_type": "code",
   "execution_count": null,
   "metadata": {},
   "outputs": [],
   "source": [
    "greece_data = df[df['home_team']=='Greece'] \n",
    "greece_data['difference'] = greece_data['home_score']- greece_data['away_score']\n",
    "\n",
    "\n",
    "greece_data['difference'].plot.hist( bins=100,figsize =(10,10))\n"
   ]
  },
  {
   "cell_type": "code",
   "execution_count": null,
   "metadata": {},
   "outputs": [],
   "source": []
  },
  {
   "cell_type": "code",
   "execution_count": null,
   "metadata": {},
   "outputs": [],
   "source": []
  },
  {
   "cell_type": "code",
   "execution_count": null,
   "metadata": {},
   "outputs": [],
   "source": []
  }
 ],
 "metadata": {
  "kernelspec": {
   "display_name": "Python 3",
   "language": "python",
   "name": "python3"
  },
  "language_info": {
   "codemirror_mode": {
    "name": "ipython",
    "version": 3
   },
   "file_extension": ".py",
   "mimetype": "text/x-python",
   "name": "python",
   "nbconvert_exporter": "python",
   "pygments_lexer": "ipython3",
   "version": "3.6.5"
  }
 },
 "nbformat": 4,
 "nbformat_minor": 2
}
